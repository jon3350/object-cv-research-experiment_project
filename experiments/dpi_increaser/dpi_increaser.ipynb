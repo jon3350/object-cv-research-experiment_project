{
 "cells": [
  {
   "cell_type": "markdown",
   "id": "b7d1a164",
   "metadata": {},
   "source": [
    "Edit Dpi of Images"
   ]
  },
  {
   "cell_type": "code",
   "execution_count": null,
   "id": "fe7c0891",
   "metadata": {},
   "outputs": [],
   "source": [
    "# imports\n",
    "from PIL import Image\n",
    "\n"
   ]
  },
  {
   "cell_type": "code",
   "execution_count": 9,
   "id": "8835a5e8",
   "metadata": {},
   "outputs": [],
   "source": [
    "img_path = \"/n/fs/obj-cv/infinigen_project/savedDatasets/kitchenDataset94/19dd0dd5/frames/Image/camera_0/Image_0_0_0048_0.png\"\n",
    "img = Image.open(img_path)\n",
    "img.save(\"output.png\", dpi=(300, 300))"
   ]
  }
 ],
 "metadata": {
  "kernelspec": {
   "display_name": "experiment_proj_clone",
   "language": "python",
   "name": "python3"
  },
  "language_info": {
   "codemirror_mode": {
    "name": "ipython",
    "version": 3
   },
   "file_extension": ".py",
   "mimetype": "text/x-python",
   "name": "python",
   "nbconvert_exporter": "python",
   "pygments_lexer": "ipython3",
   "version": "3.11.13"
  }
 },
 "nbformat": 4,
 "nbformat_minor": 5
}
